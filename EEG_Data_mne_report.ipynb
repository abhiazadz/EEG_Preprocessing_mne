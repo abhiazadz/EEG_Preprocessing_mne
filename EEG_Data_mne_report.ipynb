{
 "cells": [
  {
   "cell_type": "code",
   "execution_count": 6,
   "id": "designing-delicious",
   "metadata": {},
   "outputs": [],
   "source": [
    "# Imports\n",
    "import glob\n",
    "import math\n",
    "import ntpath\n",
    "import os\n",
    "import shutil\n",
    "from pathlib import Path\n",
    "\n",
    "import numpy as np\n",
    "import pandas as pd\n",
    "\n",
    "import mne\n",
    "\n",
    "from mne.channels import read_custom_montage\n",
    "from mne.epochs import concatenate_epochs\n",
    "\n",
    "from mne import Epochs, pick_types, find_events, EpochsArray,create_info\n",
    "from mne.io import concatenate_raws, read_raw_edf\n",
    "\n",
    "from mne.preprocessing import (ICA, create_eog_epochs, create_ecg_epochs, corrmap)\n"
   ]
  },
  {
   "cell_type": "markdown",
   "id": "conditional-determination",
   "metadata": {},
   "source": [
    "# Loading the Data"
   ]
  },
  {
   "cell_type": "code",
   "execution_count": 7,
   "id": "polyphonic-penetration",
   "metadata": {},
   "outputs": [],
   "source": [
    "data_path = Path(mne.datasets.sample.data_path(verbose=False))\n",
    "sample_dir = data_path / 'MEG' / 'sample'\n",
    "subjects_dir = data_path / 'subjects'\n",
    "\n",
    "sample_data_folder = mne.datasets.sample.data_path()\n",
    "sample_data_raw_file = os.path.join(sample_data_folder, 'MEG', 'sample',\n",
    "                                    'sample_audvis_raw.fif')\n",
    "\n",
    "raw_path = os.path.join(sample_data_folder, 'MEG', 'sample',\n",
    "                                    'sample_audvis_raw.fif')\n"
   ]
  },
  {
   "cell_type": "markdown",
   "id": "sitting-louis",
   "metadata": {},
   "source": [
    "# Data Summary and PSD"
   ]
  },
  {
   "cell_type": "code",
   "execution_count": 8,
   "id": "fuzzy-agency",
   "metadata": {},
   "outputs": [
    {
     "name": "stdout",
     "output_type": "stream",
     "text": [
      "Opening raw data file C:\\Users\\AA086655\\mne_data\\MNE-sample-data\\MEG\\sample\\sample_audvis_raw.fif...\n",
      "    Read a total of 3 projection items:\n",
      "        PCA-v1 (1 x 102)  idle\n",
      "        PCA-v2 (1 x 102)  idle\n",
      "        PCA-v3 (1 x 102)  idle\n",
      "    Range : 25800 ... 192599 =     42.956 ...   320.670 secs\n",
      "Ready.\n",
      "Reading 0 ... 166799  =      0.000 ...   277.714 secs...\n",
      "Embedding : jquery-3.6.0.min.js\n",
      "Embedding : bootstrap.bundle.min.js\n",
      "Embedding : bootstrap.min.css\n",
      "Embedding : highlightjs/highlight.min.js\n",
      "Embedding : highlightjs/atom-one-dark-reasonable.min.css\n",
      "Using matplotlib as 2D backend.\n",
      "Effective window size : 3.410 (s)\n",
      "Effective window size : 3.410 (s)\n",
      "Effective window size : 3.410 (s)\n",
      "Overwriting existing file.\n",
      "Saving report to : C:\\Users\\AA086655\\OneDrive - Cerner Corporation\\Desktop\\working codes\\EEG_codes\\report_raw.html\n"
     ]
    },
    {
     "data": {
      "text/plain": [
       "'C:\\\\Users\\\\AA086655\\\\OneDrive - Cerner Corporation\\\\Desktop\\\\working codes\\\\EEG_codes\\\\report_raw.html'"
      ]
     },
     "execution_count": 8,
     "metadata": {},
     "output_type": "execute_result"
    }
   ],
   "source": [
    "raw = mne.io.read_raw_fif(sample_data_raw_file, preload=True )\n",
    "raw.crop(tmax=60.)\n",
    "\n",
    "\n",
    "report = mne.Report(title='Raw example')\n",
    "# This method also accepts a path, e.g., raw=raw_path\n",
    "report.add_raw(raw=raw, title='Raw', psd=True) \n",
    "report.save('report_raw.html', overwrite=True)"
   ]
  },
  {
   "cell_type": "markdown",
   "id": "macro-label",
   "metadata": {},
   "source": [
    "# Events Summary Report"
   ]
  },
  {
   "cell_type": "code",
   "execution_count": 9,
   "id": "numerical-guest",
   "metadata": {},
   "outputs": [
    {
     "name": "stdout",
     "output_type": "stream",
     "text": [
      "86 events found\n",
      "Event IDs: [ 1  2  3  4  5 32]\n",
      "Embedding : jquery-3.6.0.min.js\n",
      "Embedding : bootstrap.bundle.min.js\n",
      "Embedding : bootstrap.min.css\n",
      "Embedding : highlightjs/highlight.min.js\n",
      "Embedding : highlightjs/atom-one-dark-reasonable.min.css\n",
      "Overwriting existing file.\n",
      "Saving report to : C:\\Users\\AA086655\\OneDrive - Cerner Corporation\\Desktop\\working codes\\EEG_codes\\report_events.html\n"
     ]
    },
    {
     "data": {
      "text/plain": [
       "'C:\\\\Users\\\\AA086655\\\\OneDrive - Cerner Corporation\\\\Desktop\\\\working codes\\\\EEG_codes\\\\report_events.html'"
      ]
     },
     "execution_count": 9,
     "metadata": {},
     "output_type": "execute_result"
    }
   ],
   "source": [
    "events_path = sample_dir / 'sample_audvis_raw-eve.fif'\n",
    "events = mne.find_events(raw=raw)\n",
    "sfreq = raw.info['sfreq']\n",
    "\n",
    "report = mne.Report(title='Events example')\n",
    "report.add_events(events=events_path, title='Events from Path', sfreq=sfreq)\n",
    "report.add_events(events=events, title='Events from \"events\"', sfreq=sfreq)\n",
    "report.save('report_events.html', overwrite=True)"
   ]
  },
  {
   "cell_type": "code",
   "execution_count": 10,
   "id": "resistant-stand",
   "metadata": {},
   "outputs": [
    {
     "name": "stdout",
     "output_type": "stream",
     "text": [
      "Adding metadata with 7 columns\n",
      "Replacing existing metadata with 7 columns\n",
      "86 matching events found\n",
      "Setting baseline interval to [-0.19979521315838786, 0.0] sec\n",
      "Applying baseline correction (mode: mean)\n",
      "Created an SSP operator (subspace dimension = 3)\n",
      "3 projection items activated\n",
      "Embedding : jquery-3.6.0.min.js\n",
      "Embedding : bootstrap.bundle.min.js\n",
      "Embedding : bootstrap.min.css\n",
      "Embedding : highlightjs/highlight.min.js\n",
      "Embedding : highlightjs/atom-one-dark-reasonable.min.css\n",
      "Loading data for 86 events and 421 original time points ...\n",
      "0 bad epochs dropped\n",
      "    Using multitaper spectrum estimation with 7 DPSS windows\n",
      "    Using multitaper spectrum estimation with 7 DPSS windows\n",
      "    Using multitaper spectrum estimation with 7 DPSS windows\n",
      "Overwriting existing file.\n",
      "Saving report to : C:\\Users\\AA086655\\OneDrive - Cerner Corporation\\Desktop\\working codes\\EEG_codes\\report_epochs.html\n"
     ]
    },
    {
     "data": {
      "text/plain": [
       "'C:\\\\Users\\\\AA086655\\\\OneDrive - Cerner Corporation\\\\Desktop\\\\working codes\\\\EEG_codes\\\\report_epochs.html'"
      ]
     },
     "execution_count": 10,
     "metadata": {},
     "output_type": "execute_result"
    }
   ],
   "source": [
    "event_id = {\n",
    "    'auditory/left': 1, 'auditory/right': 2, 'visual/left': 3,\n",
    "    'visual/right': 4, 'face': 5, 'buttonpress': 32\n",
    "}\n",
    "\n",
    "metadata, _, _ = mne.epochs.make_metadata(\n",
    "    events=events,\n",
    "    event_id=event_id,\n",
    "    tmin=-0.2,\n",
    "    tmax=0.5,\n",
    "    sfreq=raw.info['sfreq']\n",
    ")\n",
    "epochs = mne.Epochs(\n",
    "    raw=raw, events=events, event_id=event_id, metadata=metadata\n",
    ")\n",
    "\n",
    "report = mne.Report(title='Epochs example')\n",
    "report.add_epochs(epochs=epochs, title='Epochs from \"epochs\"')\n",
    "report.save('report_epochs.html', overwrite=True)"
   ]
  },
  {
   "cell_type": "markdown",
   "id": "stable-jacket",
   "metadata": {},
   "source": [
    "# Evoked.."
   ]
  },
  {
   "cell_type": "code",
   "execution_count": 11,
   "id": "sound-administration",
   "metadata": {},
   "outputs": [
    {
     "name": "stdout",
     "output_type": "stream",
     "text": [
      "Reading C:\\Users\\AA086655\\mne_data\\MNE-sample-data\\MEG\\sample\\sample_audvis-ave.fif ...\n",
      "    Read a total of 4 projection items:\n",
      "        PCA-v1 (1 x 102) active\n",
      "        PCA-v2 (1 x 102) active\n",
      "        PCA-v3 (1 x 102) active\n",
      "        Average EEG reference (1 x 60) active\n",
      "    Found the data of interest:\n",
      "        t =    -199.80 ...     499.49 ms (Left Auditory)\n",
      "        0 CTF compensation matrices available\n",
      "        nave = 55 - aspect type = 100\n",
      "Projections have already been applied. Setting proj attribute to True.\n",
      "Applying baseline correction (mode: mean)\n",
      "    Read a total of 4 projection items:\n",
      "        PCA-v1 (1 x 102) active\n",
      "        PCA-v2 (1 x 102) active\n",
      "        PCA-v3 (1 x 102) active\n",
      "        Average EEG reference (1 x 60) active\n",
      "    Found the data of interest:\n",
      "        t =    -199.80 ...     499.49 ms (Right Auditory)\n",
      "        0 CTF compensation matrices available\n",
      "        nave = 61 - aspect type = 100\n",
      "Projections have already been applied. Setting proj attribute to True.\n",
      "Applying baseline correction (mode: mean)\n",
      "    Read a total of 4 projection items:\n",
      "        PCA-v1 (1 x 102) active\n",
      "        PCA-v2 (1 x 102) active\n",
      "        PCA-v3 (1 x 102) active\n",
      "        Average EEG reference (1 x 60) active\n",
      "    Found the data of interest:\n",
      "        t =    -199.80 ...     499.49 ms (Left visual)\n",
      "        0 CTF compensation matrices available\n",
      "        nave = 67 - aspect type = 100\n",
      "Projections have already been applied. Setting proj attribute to True.\n",
      "Applying baseline correction (mode: mean)\n",
      "    Read a total of 4 projection items:\n",
      "        PCA-v1 (1 x 102) active\n",
      "        PCA-v2 (1 x 102) active\n",
      "        PCA-v3 (1 x 102) active\n",
      "        Average EEG reference (1 x 60) active\n",
      "    Found the data of interest:\n",
      "        t =    -199.80 ...     499.49 ms (Right visual)\n",
      "        0 CTF compensation matrices available\n",
      "        nave = 58 - aspect type = 100\n",
      "Projections have already been applied. Setting proj attribute to True.\n",
      "Applying baseline correction (mode: mean)\n",
      "Removing projector <Projection | PCA-v1, active : True, n_channels : 102>\n",
      "Removing projector <Projection | PCA-v2, active : True, n_channels : 102>\n",
      "Removing projector <Projection | PCA-v3, active : True, n_channels : 102>\n",
      "Removing projector <Projection | PCA-v1, active : True, n_channels : 102>\n",
      "Removing projector <Projection | PCA-v2, active : True, n_channels : 102>\n",
      "Removing projector <Projection | PCA-v3, active : True, n_channels : 102>\n",
      "Embedding : jquery-3.6.0.min.js\n",
      "Embedding : bootstrap.bundle.min.js\n",
      "Embedding : bootstrap.min.css\n",
      "Embedding : highlightjs/highlight.min.js\n",
      "Embedding : highlightjs/atom-one-dark-reasonable.min.css\n",
      "    366 x 366 full covariance (kind = 1) found.\n",
      "    Read a total of 4 projection items:\n",
      "        PCA-v1 (1 x 102) active\n",
      "        PCA-v2 (1 x 102) active\n",
      "        PCA-v3 (1 x 102) active\n",
      "        Average EEG reference (1 x 60) active\n",
      "combining channels using \"gfp\"\n",
      "Computing rank from covariance with rank=None\n",
      "    Using tolerance 4.7e-14 (2.2e-16 eps * 59 dim * 3.6  max singular value)\n",
      "    Estimated rank (eeg): 58\n",
      "    EEG: rank 58 computed from 59 data channels with 1 projector\n",
      "    Created an SSP operator (subspace dimension = 1)\n",
      "Computing rank from covariance with rank={'eeg': 58}\n",
      "    Setting small EEG eigenvalues to zero (without PCA)\n",
      "    Created the whitener using a noise covariance matrix with rank 58 (1 small eigenvalues omitted)\n",
      "combining channels using \"gfp\"\n",
      "Computing rank from covariance with rank=None\n",
      "    Using tolerance 4.7e-14 (2.2e-16 eps * 59 dim * 3.6  max singular value)\n",
      "    Estimated rank (eeg): 58\n",
      "    EEG: rank 58 computed from 59 data channels with 1 projector\n",
      "    Created an SSP operator (subspace dimension = 1)\n",
      "Computing rank from covariance with rank={'eeg': 58}\n",
      "    Setting small EEG eigenvalues to zero (without PCA)\n",
      "    Created the whitener using a noise covariance matrix with rank 58 (1 small eigenvalues omitted)\n",
      "Overwriting existing file.\n",
      "Saving report to : C:\\Users\\AA086655\\OneDrive - Cerner Corporation\\Desktop\\working codes\\EEG_codes\\report_evoked.html\n"
     ]
    },
    {
     "data": {
      "text/plain": [
       "'C:\\\\Users\\\\AA086655\\\\OneDrive - Cerner Corporation\\\\Desktop\\\\working codes\\\\EEG_codes\\\\report_evoked.html'"
      ]
     },
     "execution_count": 11,
     "metadata": {},
     "output_type": "execute_result"
    }
   ],
   "source": [
    "evoked_path = sample_dir / 'sample_audvis-ave.fif'\n",
    "cov_path = sample_dir / 'sample_audvis-cov.fif'\n",
    "\n",
    "evokeds = mne.read_evokeds(evoked_path, baseline=(None, 0))\n",
    "evokeds_subset = evokeds[:2]  # The first two\n",
    "for evoked in evokeds_subset:\n",
    "    evoked.pick('eeg')  # just for speed of plotting\n",
    "\n",
    "report = mne.Report(title='Evoked example')\n",
    "report.add_evokeds(\n",
    "    evokeds=evokeds_subset,\n",
    "    titles=['evoked 1',  # Manually specify titles\n",
    "            'evoked 2'],\n",
    "    noise_cov=cov_path,\n",
    "    n_time_points=5\n",
    ")\n",
    "report.save('report_evoked.html', overwrite=True)"
   ]
  },
  {
   "cell_type": "markdown",
   "id": "narrow-preliminary",
   "metadata": {},
   "source": [
    "# Covariance report"
   ]
  },
  {
   "cell_type": "code",
   "execution_count": 12,
   "id": "going-alaska",
   "metadata": {},
   "outputs": [
    {
     "name": "stdout",
     "output_type": "stream",
     "text": [
      "Embedding : jquery-3.6.0.min.js\n",
      "Embedding : bootstrap.bundle.min.js\n",
      "Embedding : bootstrap.min.css\n",
      "Embedding : highlightjs/highlight.min.js\n",
      "Embedding : highlightjs/atom-one-dark-reasonable.min.css\n",
      "    366 x 366 full covariance (kind = 1) found.\n",
      "    Read a total of 4 projection items:\n",
      "        PCA-v1 (1 x 102) active\n",
      "        PCA-v2 (1 x 102) active\n",
      "        PCA-v3 (1 x 102) active\n",
      "        Average EEG reference (1 x 60) active\n",
      "    Read a total of 3 projection items:\n",
      "        PCA-v1 (1 x 102)  idle\n",
      "        PCA-v2 (1 x 102)  idle\n",
      "        PCA-v3 (1 x 102)  idle\n",
      "Computing rank from covariance with rank=None\n",
      "    Using tolerance 2.5e-14 (2.2e-16 eps * 102 dim * 1.1  max singular value)\n",
      "    Estimated rank (mag): 102\n",
      "    MAG: rank 102 computed from 102 data channels with 0 projectors\n",
      "Computing rank from covariance with rank=None\n",
      "    Using tolerance 2.6e-12 (2.2e-16 eps * 204 dim * 56  max singular value)\n",
      "    Estimated rank (grad): 204\n",
      "    GRAD: rank 204 computed from 204 data channels with 0 projectors\n",
      "Computing rank from covariance with rank=None\n",
      "    Using tolerance 4.8e-14 (2.2e-16 eps * 60 dim * 3.6  max singular value)\n",
      "    Estimated rank (eeg): 60\n",
      "    EEG: rank 60 computed from 60 data channels with 0 projectors\n",
      "Overwriting existing file.\n",
      "Saving report to : C:\\Users\\AA086655\\OneDrive - Cerner Corporation\\Desktop\\working codes\\EEG_codes\\report_cov.html\n"
     ]
    },
    {
     "data": {
      "text/plain": [
       "'C:\\\\Users\\\\AA086655\\\\OneDrive - Cerner Corporation\\\\Desktop\\\\working codes\\\\EEG_codes\\\\report_cov.html'"
      ]
     },
     "execution_count": 12,
     "metadata": {},
     "output_type": "execute_result"
    }
   ],
   "source": [
    "cov_path = sample_dir / 'sample_audvis-cov.fif'\n",
    "\n",
    "report = mne.Report(title='Covariance report')\n",
    "report.add_covariance(cov=cov_path, info=raw_path, title='Covariance')\n",
    "report.save('report_cov.html', overwrite=True)"
   ]
  },
  {
   "cell_type": "markdown",
   "id": "united-authority",
   "metadata": {},
   "source": [
    "# Projector report"
   ]
  },
  {
   "cell_type": "code",
   "execution_count": 13,
   "id": "engaged-integral",
   "metadata": {},
   "outputs": [
    {
     "name": "stdout",
     "output_type": "stream",
     "text": [
      "Embedding : jquery-3.6.0.min.js\n",
      "Embedding : bootstrap.bundle.min.js\n",
      "Embedding : bootstrap.min.css\n",
      "Embedding : highlightjs/highlight.min.js\n",
      "Embedding : highlightjs/atom-one-dark-reasonable.min.css\n",
      "    Read a total of 6 projection items:\n",
      "        ECG-planar-999--0.200-0.400-PCA-01 (1 x 203)  idle\n",
      "        ECG-planar-999--0.200-0.400-PCA-02 (1 x 203)  idle\n",
      "        ECG-axial-999--0.200-0.400-PCA-01 (1 x 102)  idle\n",
      "        ECG-axial-999--0.200-0.400-PCA-02 (1 x 102)  idle\n",
      "        ECG-eeg-999--0.200-0.400-PCA-01 (1 x 59)  idle\n",
      "        ECG-eeg-999--0.200-0.400-PCA-02 (1 x 59)  idle\n",
      "    Read a total of 6 projection items:\n",
      "        EOG-planar-998--0.200-0.200-PCA-01 (1 x 203)  idle\n",
      "        EOG-planar-998--0.200-0.200-PCA-02 (1 x 203)  idle\n",
      "        EOG-axial-998--0.200-0.200-PCA-01 (1 x 102)  idle\n",
      "        EOG-axial-998--0.200-0.200-PCA-02 (1 x 102)  idle\n",
      "        EOG-eeg-998--0.200-0.200-PCA-01 (1 x 59)  idle\n",
      "        EOG-eeg-998--0.200-0.200-PCA-02 (1 x 59)  idle\n",
      "Overwriting existing file.\n",
      "Saving report to : C:\\Users\\AA086655\\OneDrive - Cerner Corporation\\Desktop\\working codes\\EEG_codes\\report_projs.html\n"
     ]
    },
    {
     "data": {
      "text/plain": [
       "'C:\\\\Users\\\\AA086655\\\\OneDrive - Cerner Corporation\\\\Desktop\\\\working codes\\\\EEG_codes\\\\report_projs.html'"
      ]
     },
     "execution_count": 13,
     "metadata": {},
     "output_type": "execute_result"
    }
   ],
   "source": [
    "ecg_proj_path = sample_dir / 'sample_audvis_ecg-proj.fif'\n",
    "eog_proj_path = sample_dir / 'sample_audvis_eog-proj.fif'\n",
    "\n",
    "report = mne.Report(title='Projectors example')\n",
    "report.add_projs(info=raw_path, title='Projs from info')\n",
    "report.add_projs(info=raw_path, projs=ecg_proj_path,\n",
    "                 title='ECG projs from path')\n",
    "report.add_projs(info=raw_path, projs=eog_proj_path,\n",
    "                 title='EOG projs from path')\n",
    "report.save('report_projs.html', overwrite=True)"
   ]
  },
  {
   "cell_type": "markdown",
   "id": "guilty-humidity",
   "metadata": {},
   "source": [
    "# Independent Component Analysis report"
   ]
  },
  {
   "cell_type": "code",
   "execution_count": 14,
   "id": "touched-lying",
   "metadata": {},
   "outputs": [
    {
     "name": "stdout",
     "output_type": "stream",
     "text": [
      "Fitting ICA to data using 364 channels (please be patient, this may take a while)\n",
      "Selecting by number: 15 components\n",
      "Fitting ICA took 3.9s.\n",
      "Using EOG channel: EOG 061\n",
      "EOG channel index for this subject is: [375]\n",
      "Filtering the data to remove DC offset to help distinguish blinks from saccades\n",
      "Setting up band-pass filter from 1 - 10 Hz\n",
      "\n",
      "FIR filter parameters\n",
      "---------------------\n",
      "Designing a two-pass forward and reverse, zero-phase, non-causal bandpass filter:\n",
      "- Windowed frequency-domain design (firwin2) method\n",
      "- Hann window\n",
      "- Lower passband edge: 1.00\n",
      "- Lower transition bandwidth: 0.50 Hz (-12 dB cutoff frequency: 0.75 Hz)\n",
      "- Upper passband edge: 10.00 Hz\n",
      "- Upper transition bandwidth: 0.50 Hz (-12 dB cutoff frequency: 10.25 Hz)\n",
      "- Filter length: 6007 samples (10.001 sec)\n",
      "\n",
      "Now detecting blinks and generating corresponding events\n",
      "Found 10 significant peaks\n",
      "Number of EOG events detected: 10\n",
      "Not setting metadata\n",
      "Not setting metadata\n",
      "10 matching events found\n",
      "No baseline correction applied\n",
      "Created an SSP operator (subspace dimension = 3)\n",
      "Loading data for 10 events and 601 original time points ...\n",
      "0 bad epochs dropped\n",
      "Using EOG channel: EEG 001\n",
      "Embedding : jquery-3.6.0.min.js\n",
      "Embedding : bootstrap.bundle.min.js\n",
      "Embedding : bootstrap.min.css\n",
      "Embedding : highlightjs/highlight.min.js\n",
      "Embedding : highlightjs/atom-one-dark-reasonable.min.css\n",
      "Applying ICA to Raw instance\n",
      "    Transforming to ICA space (15 components)\n",
      "    Zeroing out 6 ICA components\n",
      "    Projecting back using 364 PCA components\n",
      "    Using multitaper spectrum estimation with 7 DPSS windows\n",
      "Not setting metadata\n",
      "Not setting metadata\n",
      "30 matching events found\n",
      "No baseline correction applied\n",
      "0 projection items activated\n",
      "0 bad epochs dropped\n",
      "    Using multitaper spectrum estimation with 7 DPSS windows\n",
      "Not setting metadata\n",
      "Not setting metadata\n",
      "30 matching events found\n",
      "No baseline correction applied\n",
      "0 projection items activated\n",
      "0 bad epochs dropped\n",
      "    Using multitaper spectrum estimation with 7 DPSS windows\n",
      "Not setting metadata\n",
      "Not setting metadata\n",
      "30 matching events found\n",
      "No baseline correction applied\n",
      "0 projection items activated\n",
      "0 bad epochs dropped\n",
      "    Using multitaper spectrum estimation with 7 DPSS windows\n",
      "Not setting metadata\n",
      "Not setting metadata\n",
      "30 matching events found\n",
      "No baseline correction applied\n",
      "0 projection items activated\n",
      "0 bad epochs dropped\n",
      "    Using multitaper spectrum estimation with 7 DPSS windows\n",
      "Not setting metadata\n",
      "Not setting metadata\n",
      "30 matching events found\n",
      "No baseline correction applied\n",
      "0 projection items activated\n",
      "0 bad epochs dropped\n",
      "    Using multitaper spectrum estimation with 7 DPSS windows\n",
      "Not setting metadata\n",
      "Not setting metadata\n",
      "30 matching events found\n",
      "No baseline correction applied\n",
      "0 projection items activated\n",
      "0 bad epochs dropped\n",
      "    Using multitaper spectrum estimation with 7 DPSS windows\n",
      "Not setting metadata\n",
      "Not setting metadata\n",
      "30 matching events found\n",
      "No baseline correction applied\n",
      "0 projection items activated\n",
      "0 bad epochs dropped\n",
      "    Using multitaper spectrum estimation with 7 DPSS windows\n",
      "Not setting metadata\n",
      "Not setting metadata\n",
      "30 matching events found\n",
      "No baseline correction applied\n",
      "0 projection items activated\n",
      "0 bad epochs dropped\n",
      "    Using multitaper spectrum estimation with 7 DPSS windows\n",
      "Not setting metadata\n",
      "Not setting metadata\n",
      "30 matching events found\n",
      "No baseline correction applied\n",
      "0 projection items activated\n",
      "0 bad epochs dropped\n",
      "    Using multitaper spectrum estimation with 7 DPSS windows\n",
      "Not setting metadata\n",
      "Not setting metadata\n",
      "30 matching events found\n",
      "No baseline correction applied\n",
      "0 projection items activated\n",
      "0 bad epochs dropped\n",
      "    Using multitaper spectrum estimation with 7 DPSS windows\n",
      "Not setting metadata\n",
      "Not setting metadata\n",
      "30 matching events found\n",
      "No baseline correction applied\n",
      "0 projection items activated\n",
      "0 bad epochs dropped\n",
      "    Using multitaper spectrum estimation with 7 DPSS windows\n",
      "Not setting metadata\n",
      "Not setting metadata\n",
      "30 matching events found\n",
      "No baseline correction applied\n",
      "0 projection items activated\n",
      "0 bad epochs dropped\n",
      "    Using multitaper spectrum estimation with 7 DPSS windows\n",
      "Not setting metadata\n",
      "Not setting metadata\n",
      "30 matching events found\n",
      "No baseline correction applied\n",
      "0 projection items activated\n",
      "0 bad epochs dropped\n",
      "    Using multitaper spectrum estimation with 7 DPSS windows\n",
      "Not setting metadata\n",
      "Not setting metadata\n",
      "30 matching events found\n",
      "No baseline correction applied\n",
      "0 projection items activated\n",
      "0 bad epochs dropped\n",
      "    Using multitaper spectrum estimation with 7 DPSS windows\n",
      "Not setting metadata\n",
      "Not setting metadata\n",
      "30 matching events found\n",
      "No baseline correction applied\n",
      "0 projection items activated\n",
      "0 bad epochs dropped\n",
      "Overwriting existing file.\n",
      "Saving report to : C:\\Users\\AA086655\\OneDrive - Cerner Corporation\\Desktop\\working codes\\EEG_codes\\report_ica.html\n"
     ]
    },
    {
     "data": {
      "text/plain": [
       "'C:\\\\Users\\\\AA086655\\\\OneDrive - Cerner Corporation\\\\Desktop\\\\working codes\\\\EEG_codes\\\\report_ica.html'"
      ]
     },
     "execution_count": 14,
     "metadata": {},
     "output_type": "execute_result"
    }
   ],
   "source": [
    "ica = mne.preprocessing.ICA(\n",
    "    n_components=15,  # fit 5 ICA components\n",
    "    fit_params=dict(tol=0.01)  # assume very early on that ICA has converged\n",
    ")\n",
    "\n",
    "ica.fit(inst=raw)\n",
    "\n",
    "# create epochs based on EOG events, find EOG artifacts in the data via pattern\n",
    "# matching, and exclude the EOG-related ICA components\n",
    "eog_epochs = mne.preprocessing.create_eog_epochs(raw=raw)\n",
    "eog_components, eog_scores = ica.find_bads_eog(\n",
    "    inst=eog_epochs,\n",
    "    ch_name='EEG 001',  # a channel close to the eye\n",
    "    threshold=1  # lower than the default threshold\n",
    ")\n",
    "ica.exclude = eog_components\n",
    "\n",
    "report = mne.Report(title='ICA example')\n",
    "report.add_ica(\n",
    "    ica=ica,\n",
    "    title='ICA cleaning',\n",
    "    picks=[0, 1, 2, 3, 4,5,6,7,8,9,10,11,12,13,14],  # only plot the first two components\n",
    "    inst=raw,\n",
    "    eog_evoked=eog_epochs.average(),\n",
    "    eog_scores=eog_scores,\n",
    "    n_jobs=1  # could be increased!\n",
    ")\n",
    "report.save('report_ica.html', overwrite=True)"
   ]
  },
  {
   "cell_type": "markdown",
   "id": "toxic-hundred",
   "metadata": {},
   "source": [
    "# MRI & BEM Report"
   ]
  },
  {
   "cell_type": "code",
   "execution_count": 15,
   "id": "occupied-rapid",
   "metadata": {},
   "outputs": [
    {
     "name": "stdout",
     "output_type": "stream",
     "text": [
      "Embedding : jquery-3.6.0.min.js\n",
      "Embedding : bootstrap.bundle.min.js\n",
      "Embedding : bootstrap.min.css\n",
      "Embedding : highlightjs/highlight.min.js\n",
      "Embedding : highlightjs/atom-one-dark-reasonable.min.css\n",
      "Using surface: C:\\Users\\AA086655\\mne_data\\MNE-sample-data\\subjects\\sample\\bem\\inner_skull.surf\n",
      "Using surface: C:\\Users\\AA086655\\mne_data\\MNE-sample-data\\subjects\\sample\\bem\\outer_skull.surf\n",
      "Using surface: C:\\Users\\AA086655\\mne_data\\MNE-sample-data\\subjects\\sample\\bem\\outer_skin.surf\n",
      "Overwriting existing file.\n",
      "Saving report to : C:\\Users\\AA086655\\OneDrive - Cerner Corporation\\Desktop\\working codes\\EEG_codes\\report_mri_and_bem.html\n"
     ]
    },
    {
     "data": {
      "text/plain": [
       "'C:\\\\Users\\\\AA086655\\\\OneDrive - Cerner Corporation\\\\Desktop\\\\working codes\\\\EEG_codes\\\\report_mri_and_bem.html'"
      ]
     },
     "execution_count": 15,
     "metadata": {},
     "output_type": "execute_result"
    }
   ],
   "source": [
    "report = mne.Report(title='BEM example')\n",
    "report.add_bem(\n",
    "    subject='sample', subjects_dir=subjects_dir, title='MRI & BEM',\n",
    "    decim=20,\n",
    "    width=256\n",
    ")\n",
    "report.save('report_mri_and_bem.html', overwrite=True)"
   ]
  },
  {
   "cell_type": "markdown",
   "id": "regulated-bruce",
   "metadata": {},
   "source": [
    "# Coregistration Report"
   ]
  },
  {
   "cell_type": "code",
   "execution_count": null,
   "id": "incident-tulsa",
   "metadata": {},
   "outputs": [
    {
     "name": "stdout",
     "output_type": "stream",
     "text": [
      "Embedding : jquery-3.6.0.min.js\n",
      "Embedding : bootstrap.bundle.min.js\n",
      "Embedding : bootstrap.min.css\n",
      "Embedding : highlightjs/highlight.min.js\n",
      "Embedding : highlightjs/atom-one-dark-reasonable.min.css\n",
      "    Read a total of 3 projection items:\n",
      "        PCA-v1 (1 x 102)  idle\n",
      "        PCA-v2 (1 x 102)  idle\n",
      "        PCA-v3 (1 x 102)  idle\n",
      "Using mayavi 3d backend.\n",
      "\n"
     ]
    },
    {
     "name": "stderr",
     "output_type": "stream",
     "text": [
      "<ipython-input-16-75abf4050c43>:4: DeprecationWarning: The Mayavi 3D backend is deprecated in 0.24 and will be removed in the next version of MNE-Python. Use the pyvistaqt or notebook backends instead\n",
      "  report.add_trans(trans=trans_path, info=raw_path, subject='sample',subjects_dir=subjects_dir, title='Coregistration')\n"
     ]
    }
   ],
   "source": [
    "trans_path = sample_dir / 'sample_audvis_raw-trans.fif'\n",
    "\n",
    "report = mne.Report(title='Coregistration report')\n",
    "report.add_trans(trans=trans_path, info=raw_path, subject='sample',subjects_dir=subjects_dir, title='Coregistration')\n",
    "report.save('report_coregistration.html', overwrite=True)"
   ]
  },
  {
   "cell_type": "code",
   "execution_count": null,
   "id": "underlying-willow",
   "metadata": {},
   "outputs": [],
   "source": []
  }
 ],
 "metadata": {
  "kernelspec": {
   "display_name": "Python 3",
   "language": "python",
   "name": "python3"
  },
  "language_info": {
   "codemirror_mode": {
    "name": "ipython",
    "version": 3
   },
   "file_extension": ".py",
   "mimetype": "text/x-python",
   "name": "python",
   "nbconvert_exporter": "python",
   "pygments_lexer": "ipython3",
   "version": "3.8.8"
  }
 },
 "nbformat": 4,
 "nbformat_minor": 5
}
